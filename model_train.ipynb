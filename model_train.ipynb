{
 "cells": [
  {
   "cell_type": "code",
   "source": [
    "from sklearn.ensemble import RandomForestClassifier\n",
    "import pandas as pd\n",
    "import joblib\n",
    "\n",
    "# Verileri yükle\n",
    "scam = pd.read_csv(\"/content/scam_bot/data/known_scams.csv\")\n",
    "safe = pd.read_csv(\"/content/scam_bot/data/safe_tokens.csv\")\n",
    "\n",
    "# Birleştir ve etiketle\n",
    "scam[\"label\"] = 1\n",
    "safe[\"label\"] = 0\n",
    "df = pd.concat([scam, safe])\n",
    "\n",
    "# Özellik ve hedef\n",
    "X = df.drop(columns=[\"label\", \"contract\"])\n",
    "y = df[\"label\"]\n",
    "\n",
    "# Model eğitimi\n",
    "model = RandomForestClassifier(n_estimators=200)\n",
    "model.fit(X, y)\n",
    "\n",
    "# Modeli kaydet\n",
    "joblib.dump(model, \"/content/scam_bot/models/scam_model.pkl\")"
   ]
  }
 ],
 "metadata": {},
 "nbformat": 4,
 "nbformat_minor": 2
}