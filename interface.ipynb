
import gradio as gr
from main import analyze_contract

def run_analysis(addr):
    result = analyze_contract(addr)
    output = f"""
Contract: {result['contract']}
Risk Score: {result['risk_score']}%
Red Flags: {", ".join(result['red_flags'])}
"""
    return output

iface = gr.Interface(fn=run_analysis, inputs="text", outputs="text", title="Scam Bot AI")
iface.launch()
